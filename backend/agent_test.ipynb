{
 "cells": [
  {
   "cell_type": "markdown",
   "metadata": {},
   "source": [
    "# Agent Testing Notebook"
   ]
  },
  {
   "cell_type": "markdown",
   "metadata": {},
   "source": [
    "This notebook is for testing the `LangGraphAgent` with different agent architectures."
   ]
  },
  {
   "cell_type": "markdown",
   "metadata": {},
   "source": [
    "## Setup"
   ]
  },
  {
   "cell_type": "code",
   "execution_count": 2,
   "metadata": {},
   "outputs": [
    {
     "name": "stdout",
     "output_type": "stream",
     "text": [
      "Requirement already satisfied: pydantic in c:\\users\\pault\\anaconda3\\envs\\app_project\\lib\\site-packages (2.11.7)\n",
      "Requirement already satisfied: annotated-types>=0.6.0 in c:\\users\\pault\\anaconda3\\envs\\app_project\\lib\\site-packages (from pydantic) (0.7.0)\n",
      "Requirement already satisfied: pydantic-core==2.33.2 in c:\\users\\pault\\anaconda3\\envs\\app_project\\lib\\site-packages (from pydantic) (2.33.2)\n",
      "Requirement already satisfied: typing-extensions>=4.12.2 in c:\\users\\pault\\anaconda3\\envs\\app_project\\lib\\site-packages (from pydantic) (4.14.0)\n",
      "Requirement already satisfied: typing-inspection>=0.4.0 in c:\\users\\pault\\anaconda3\\envs\\app_project\\lib\\site-packages (from pydantic) (0.4.1)\n"
     ]
    }
   ],
   "source": [
    "!pip install --upgrade pydantic"
   ]
  },
  {
   "cell_type": "code",
   "execution_count": 12,
   "metadata": {},
   "outputs": [],
   "source": [
    "from langchain_community.tools.tavily_search import TavilySearchResults\n",
    "import os\n",
    "from dotenv import load_dotenv\n",
    "load_dotenv()\n",
    "from typing import Any, Callable, List, Optional, cast, Dict, Literal, Union\n",
    "from pydantic import BaseModel, Field, field_validator\n",
    "from langchain.tools import BaseTool, Tool"
   ]
  },
  {
   "cell_type": "code",
   "execution_count": 15,
   "metadata": {},
   "outputs": [
    {
     "name": "stdout",
     "output_type": "stream",
     "text": [
      "None\n"
     ]
    }
   ],
   "source": [
    "print(os.getenv(\"TAVILY_API_KEY\"))"
   ]
  },
  {
   "cell_type": "code",
   "execution_count": 13,
   "metadata": {},
   "outputs": [
    {
     "data": {
      "text/plain": [
       "{'error': \"1 validation error for TavilySearchAPIWrapper\\n  Value error, Did not find tavily_api_key, please add an environment variable `TAVILY_API_KEY` which contains it, or pass `tavily_api_key` as a named parameter. [type=value_error, input_value={'tavily_api_key': None}, input_type=dict]\\n    For further information visit https://errors.pydantic.dev/2.11/v/value_error\"}"
      ]
     },
     "execution_count": 13,
     "metadata": {},
     "output_type": "execute_result"
    }
   ],
   "source": [
    "class SearchToolInput(BaseModel):\n",
    "    query: str = Field(..., description=\"The search query to look up.\")\n",
    "    max_results: Optional[int] = Field(default=10, description=\"The maximum number of search results to return.\")\n",
    "\n",
    "# Define the Tool\n",
    "class TavilySearchTool:\n",
    "    def __init__(self, max_results: int = 10):\n",
    "        self.max_results = max_results\n",
    "\n",
    "    def search(self, query: str) -> Optional[List[Dict[str, Any]]]:\n",
    "        \"\"\"\n",
    "        Perform a web search using the Tavily search engine.\n",
    "        \"\"\"\n",
    "        try:\n",
    "            # Initialize the Tavily search tool with the configured max_results\n",
    "            search_tool = TavilySearchResults(max_results=self.max_results, tavily_api_key=os.getenv(\"TAVILY_API_KEY\"))\n",
    "\n",
    "            # Perform the search (synchronously)\n",
    "            result = search_tool.invoke({\"query\": query})\n",
    "\n",
    "            # Return the search results\n",
    "            return result\n",
    "        except Exception as e:\n",
    "            return {\"error\": str(e)}\n",
    "\n",
    "tavily_search_tool = Tool(\n",
    "    name=\"Tavily Search\",\n",
    "    func=TavilySearchTool().search,\n",
    "    description=\"Performs web searches using the Tavily search engine, providing accurate and trusted results for general queries.\",\n",
    "    args_schema=SearchToolInput\n",
    ")\n",
    "\n",
    "\n",
    "tavily_search_tool.invoke(\"when is the next nba season starting\")"
   ]
  },
  {
   "cell_type": "code",
   "execution_count": 4,
   "metadata": {},
   "outputs": [
    {
     "name": "stdout",
     "output_type": "stream",
     "text": [
      "\u001b[1;31mInit signature:\u001b[0m\n",
      "\u001b[0mTavilySearchResults\u001b[0m\u001b[1;33m(\u001b[0m\u001b[1;33m\n",
      "\u001b[0m    \u001b[1;33m*\u001b[0m\u001b[1;33m,\u001b[0m\u001b[1;33m\n",
      "\u001b[0m    \u001b[0mname\u001b[0m\u001b[1;33m:\u001b[0m \u001b[0mstr\u001b[0m \u001b[1;33m=\u001b[0m \u001b[1;34m'tavily_search_results_json'\u001b[0m\u001b[1;33m,\u001b[0m\u001b[1;33m\n",
      "\u001b[0m    \u001b[0mdescription\u001b[0m\u001b[1;33m:\u001b[0m \u001b[0mstr\u001b[0m \u001b[1;33m=\u001b[0m \u001b[1;34m'A search engine optimized for comprehensive, accurate, and trusted results. Useful for when you need to answer questions about current events. Input should be a search query.'\u001b[0m\u001b[1;33m,\u001b[0m\u001b[1;33m\n",
      "\u001b[0m    \u001b[0margs_schema\u001b[0m\u001b[1;33m:\u001b[0m \u001b[0mType\u001b[0m\u001b[1;33m[\u001b[0m\u001b[0mpydantic\u001b[0m\u001b[1;33m.\u001b[0m\u001b[0mmain\u001b[0m\u001b[1;33m.\u001b[0m\u001b[0mBaseModel\u001b[0m\u001b[1;33m]\u001b[0m \u001b[1;33m=\u001b[0m \u001b[1;33m<\u001b[0m\u001b[1;32mclass\u001b[0m \u001b[1;34m'langchain_community.tools.tavily_search.tool.TavilyInput'\u001b[0m\u001b[1;33m>\u001b[0m\u001b[1;33m,\u001b[0m\u001b[1;33m\n",
      "\u001b[0m    \u001b[0mreturn_direct\u001b[0m\u001b[1;33m:\u001b[0m \u001b[0mbool\u001b[0m \u001b[1;33m=\u001b[0m \u001b[1;32mFalse\u001b[0m\u001b[1;33m,\u001b[0m\u001b[1;33m\n",
      "\u001b[0m    \u001b[0mverbose\u001b[0m\u001b[1;33m:\u001b[0m \u001b[0mbool\u001b[0m \u001b[1;33m=\u001b[0m \u001b[1;32mFalse\u001b[0m\u001b[1;33m,\u001b[0m\u001b[1;33m\n",
      "\u001b[0m    \u001b[0mcallbacks\u001b[0m\u001b[1;33m:\u001b[0m \u001b[0mUnion\u001b[0m\u001b[1;33m[\u001b[0m\u001b[0mlist\u001b[0m\u001b[1;33m[\u001b[0m\u001b[0mlangchain_core\u001b[0m\u001b[1;33m.\u001b[0m\u001b[0mcallbacks\u001b[0m\u001b[1;33m.\u001b[0m\u001b[0mbase\u001b[0m\u001b[1;33m.\u001b[0m\u001b[0mBaseCallbackHandler\u001b[0m\u001b[1;33m]\u001b[0m\u001b[1;33m,\u001b[0m \u001b[0mlangchain_core\u001b[0m\u001b[1;33m.\u001b[0m\u001b[0mcallbacks\u001b[0m\u001b[1;33m.\u001b[0m\u001b[0mbase\u001b[0m\u001b[1;33m.\u001b[0m\u001b[0mBaseCallbackManager\u001b[0m\u001b[1;33m,\u001b[0m \u001b[0mNoneType\u001b[0m\u001b[1;33m]\u001b[0m \u001b[1;33m=\u001b[0m \u001b[1;32mNone\u001b[0m\u001b[1;33m,\u001b[0m\u001b[1;33m\n",
      "\u001b[0m    \u001b[0mcallback_manager\u001b[0m\u001b[1;33m:\u001b[0m \u001b[0mOptional\u001b[0m\u001b[1;33m[\u001b[0m\u001b[0mlangchain_core\u001b[0m\u001b[1;33m.\u001b[0m\u001b[0mcallbacks\u001b[0m\u001b[1;33m.\u001b[0m\u001b[0mbase\u001b[0m\u001b[1;33m.\u001b[0m\u001b[0mBaseCallbackManager\u001b[0m\u001b[1;33m]\u001b[0m \u001b[1;33m=\u001b[0m \u001b[1;32mNone\u001b[0m\u001b[1;33m,\u001b[0m\u001b[1;33m\n",
      "\u001b[0m    \u001b[0mtags\u001b[0m\u001b[1;33m:\u001b[0m \u001b[0mOptional\u001b[0m\u001b[1;33m[\u001b[0m\u001b[0mlist\u001b[0m\u001b[1;33m[\u001b[0m\u001b[0mstr\u001b[0m\u001b[1;33m]\u001b[0m\u001b[1;33m]\u001b[0m \u001b[1;33m=\u001b[0m \u001b[1;32mNone\u001b[0m\u001b[1;33m,\u001b[0m\u001b[1;33m\n",
      "\u001b[0m    \u001b[0mmetadata\u001b[0m\u001b[1;33m:\u001b[0m \u001b[0mOptional\u001b[0m\u001b[1;33m[\u001b[0m\u001b[0mdict\u001b[0m\u001b[1;33m[\u001b[0m\u001b[0mstr\u001b[0m\u001b[1;33m,\u001b[0m \u001b[0mAny\u001b[0m\u001b[1;33m]\u001b[0m\u001b[1;33m]\u001b[0m \u001b[1;33m=\u001b[0m \u001b[1;32mNone\u001b[0m\u001b[1;33m,\u001b[0m\u001b[1;33m\n",
      "\u001b[0m    \u001b[0mhandle_tool_error\u001b[0m\u001b[1;33m:\u001b[0m \u001b[0mUnion\u001b[0m\u001b[1;33m[\u001b[0m\u001b[0mbool\u001b[0m\u001b[1;33m,\u001b[0m \u001b[0mstr\u001b[0m\u001b[1;33m,\u001b[0m \u001b[0mCallable\u001b[0m\u001b[1;33m[\u001b[0m\u001b[1;33m[\u001b[0m\u001b[0mlangchain_core\u001b[0m\u001b[1;33m.\u001b[0m\u001b[0mtools\u001b[0m\u001b[1;33m.\u001b[0m\u001b[0mbase\u001b[0m\u001b[1;33m.\u001b[0m\u001b[0mToolException\u001b[0m\u001b[1;33m]\u001b[0m\u001b[1;33m,\u001b[0m \u001b[0mstr\u001b[0m\u001b[1;33m]\u001b[0m\u001b[1;33m,\u001b[0m \u001b[0mNoneType\u001b[0m\u001b[1;33m]\u001b[0m \u001b[1;33m=\u001b[0m \u001b[1;32mFalse\u001b[0m\u001b[1;33m,\u001b[0m\u001b[1;33m\n",
      "\u001b[0m    \u001b[0mhandle_validation_error\u001b[0m\u001b[1;33m:\u001b[0m \u001b[0mUnion\u001b[0m\u001b[1;33m[\u001b[0m\u001b[0mbool\u001b[0m\u001b[1;33m,\u001b[0m \u001b[0mstr\u001b[0m\u001b[1;33m,\u001b[0m \u001b[0mCallable\u001b[0m\u001b[1;33m[\u001b[0m\u001b[1;33m[\u001b[0m\u001b[0mUnion\u001b[0m\u001b[1;33m[\u001b[0m\u001b[0mpydantic_core\u001b[0m\u001b[1;33m.\u001b[0m\u001b[0m_pydantic_core\u001b[0m\u001b[1;33m.\u001b[0m\u001b[0mValidationError\u001b[0m\u001b[1;33m,\u001b[0m \u001b[0mpydantic\u001b[0m\u001b[1;33m.\u001b[0m\u001b[0mv1\u001b[0m\u001b[1;33m.\u001b[0m\u001b[0merror_wrappers\u001b[0m\u001b[1;33m.\u001b[0m\u001b[0mValidationError\u001b[0m\u001b[1;33m]\u001b[0m\u001b[1;33m]\u001b[0m\u001b[1;33m,\u001b[0m \u001b[0mstr\u001b[0m\u001b[1;33m]\u001b[0m\u001b[1;33m,\u001b[0m \u001b[0mNoneType\u001b[0m\u001b[1;33m]\u001b[0m \u001b[1;33m=\u001b[0m \u001b[1;32mFalse\u001b[0m\u001b[1;33m,\u001b[0m\u001b[1;33m\n",
      "\u001b[0m    \u001b[0mresponse_format\u001b[0m\u001b[1;33m:\u001b[0m \u001b[0mLiteral\u001b[0m\u001b[1;33m[\u001b[0m\u001b[1;34m'content_and_artifact'\u001b[0m\u001b[1;33m]\u001b[0m \u001b[1;33m=\u001b[0m \u001b[1;34m'content_and_artifact'\u001b[0m\u001b[1;33m,\u001b[0m\u001b[1;33m\n",
      "\u001b[0m    \u001b[0mmax_results\u001b[0m\u001b[1;33m:\u001b[0m \u001b[0mint\u001b[0m \u001b[1;33m=\u001b[0m \u001b[1;36m5\u001b[0m\u001b[1;33m,\u001b[0m\u001b[1;33m\n",
      "\u001b[0m    \u001b[0msearch_depth\u001b[0m\u001b[1;33m:\u001b[0m \u001b[0mstr\u001b[0m \u001b[1;33m=\u001b[0m \u001b[1;34m'advanced'\u001b[0m\u001b[1;33m,\u001b[0m\u001b[1;33m\n",
      "\u001b[0m    \u001b[0minclude_domains\u001b[0m\u001b[1;33m:\u001b[0m \u001b[0mList\u001b[0m\u001b[1;33m[\u001b[0m\u001b[0mstr\u001b[0m\u001b[1;33m]\u001b[0m \u001b[1;33m=\u001b[0m \u001b[1;33m[\u001b[0m\u001b[1;33m]\u001b[0m\u001b[1;33m,\u001b[0m\u001b[1;33m\n",
      "\u001b[0m    \u001b[0mexclude_domains\u001b[0m\u001b[1;33m:\u001b[0m \u001b[0mList\u001b[0m\u001b[1;33m[\u001b[0m\u001b[0mstr\u001b[0m\u001b[1;33m]\u001b[0m \u001b[1;33m=\u001b[0m \u001b[1;33m[\u001b[0m\u001b[1;33m]\u001b[0m\u001b[1;33m,\u001b[0m\u001b[1;33m\n",
      "\u001b[0m    \u001b[0minclude_answer\u001b[0m\u001b[1;33m:\u001b[0m \u001b[0mbool\u001b[0m \u001b[1;33m=\u001b[0m \u001b[1;32mFalse\u001b[0m\u001b[1;33m,\u001b[0m\u001b[1;33m\n",
      "\u001b[0m    \u001b[0minclude_raw_content\u001b[0m\u001b[1;33m:\u001b[0m \u001b[0mbool\u001b[0m \u001b[1;33m=\u001b[0m \u001b[1;32mFalse\u001b[0m\u001b[1;33m,\u001b[0m\u001b[1;33m\n",
      "\u001b[0m    \u001b[0minclude_images\u001b[0m\u001b[1;33m:\u001b[0m \u001b[0mbool\u001b[0m \u001b[1;33m=\u001b[0m \u001b[1;32mFalse\u001b[0m\u001b[1;33m,\u001b[0m\u001b[1;33m\n",
      "\u001b[0m    \u001b[0mapi_wrapper\u001b[0m\u001b[1;33m:\u001b[0m \u001b[0mlangchain_community\u001b[0m\u001b[1;33m.\u001b[0m\u001b[0mutilities\u001b[0m\u001b[1;33m.\u001b[0m\u001b[0mtavily_search\u001b[0m\u001b[1;33m.\u001b[0m\u001b[0mTavilySearchAPIWrapper\u001b[0m \u001b[1;33m=\u001b[0m \u001b[1;33m<\u001b[0m\u001b[0mfactory\u001b[0m\u001b[1;33m>\u001b[0m\u001b[1;33m,\u001b[0m\u001b[1;33m\n",
      "\u001b[0m\u001b[1;33m)\u001b[0m \u001b[1;33m->\u001b[0m \u001b[1;32mNone\u001b[0m\u001b[1;33m\u001b[0m\u001b[1;33m\u001b[0m\u001b[0m\n",
      "\u001b[1;31mDocstring:\u001b[0m     \n",
      ".. deprecated:: 0.3.25 Use ``:class:`~langchain_tavily.TavilySearch``` instead. It will not be removed until langchain-community==1.0.\n",
      "\n",
      "Tool that queries the Tavily Search API and gets back json.\n",
      "\n",
      "    Setup:\n",
      "        Install ``langchain-openai`` and ``tavily-python``, and set environment variable ``TAVILY_API_KEY``.\n",
      "\n",
      "        .. code-block:: bash\n",
      "\n",
      "            pip install -U langchain-community tavily-python\n",
      "            export TAVILY_API_KEY=\"your-api-key\"\n",
      "\n",
      "    Instantiate:\n",
      "\n",
      "        .. code-block:: python\n",
      "\n",
      "            from langchain_community.tools import TavilySearchResults\n",
      "\n",
      "            tool = TavilySearchResults(\n",
      "                max_results=5,\n",
      "                include_answer=True,\n",
      "                include_raw_content=True,\n",
      "                include_images=True,\n",
      "                # search_depth=\"advanced\",\n",
      "                # include_domains = []\n",
      "                # exclude_domains = []\n",
      "            )\n",
      "\n",
      "    Invoke directly with args:\n",
      "\n",
      "        .. code-block:: python\n",
      "\n",
      "            tool.invoke({'query': 'who won the last french open'})\n",
      "\n",
      "        .. code-block:: json\n",
      "\n",
      "            {\n",
      "                \"url\": \"https://www.nytimes.com...\",\n",
      "                \"content\": \"Novak Djokovic won the last French Open by beating Casper Ruud ...\"\n",
      "            }\n",
      "\n",
      "    Invoke with tool call:\n",
      "\n",
      "        .. code-block:: python\n",
      "\n",
      "            tool.invoke({\"args\": {'query': 'who won the last french open'}, \"type\": \"tool_call\", \"id\": \"foo\", \"name\": \"tavily\"})\n",
      "\n",
      "        .. code-block:: python\n",
      "\n",
      "            ToolMessage(\n",
      "                content='{ \"url\": \"https://www.nytimes.com...\", \"content\": \"Novak Djokovic won the last French Open by beating Casper Ruud ...\" }',\n",
      "                artifact={\n",
      "                    'query': 'who won the last french open',\n",
      "                    'follow_up_questions': None,\n",
      "                    'answer': 'Novak ...',\n",
      "                    'images': [\n",
      "                        'https://www.amny.com/wp-content/uploads/2023/06/AP23162622181176-1200x800.jpg',\n",
      "                        ...\n",
      "                        ],\n",
      "                    'results': [\n",
      "                        {\n",
      "                            'title': 'Djokovic ...',\n",
      "                            'url': 'https://www.nytimes.com...',\n",
      "                            'content': \"Novak...\",\n",
      "                            'score': 0.99505633,\n",
      "                            'raw_content': 'Tennis\n",
      "Novak ...'\n",
      "                        },\n",
      "                        ...\n",
      "                    ],\n",
      "                    'response_time': 2.92\n",
      "                },\n",
      "                tool_call_id='1',\n",
      "                name='tavily_search_results_json',\n",
      "            )\n",
      "\n",
      "    \n",
      "\u001b[1;31mInit docstring:\u001b[0m Initialize the tool.\n",
      "\u001b[1;31mFile:\u001b[0m           c:\\users\\pault\\anaconda3\\envs\\app_project\\lib\\site-packages\\langchain_community\\tools\\tavily_search\\tool.py\n",
      "\u001b[1;31mType:\u001b[0m           ModelMetaclass\n",
      "\u001b[1;31mSubclasses:\u001b[0m     "
     ]
    }
   ],
   "source": [
    "TavilySearchResults?"
   ]
  },
  {
   "cell_type": "markdown",
   "metadata": {},
   "source": [
    "## 1. Base Agent Test"
   ]
  },
  {
   "cell_type": "code",
   "execution_count": null,
   "metadata": {},
   "outputs": [],
   "source": [
    "async def run_base_agent():\n",
    "    print(\"--- Running Base Agent Test ---\")\n",
    "    session_id = str(uuid4())\n",
    "    agent = LangGraphAgent(agent_type='base')\n",
    "    \n",
    "    messages = [Message(role=\"user\", content=\"Hello! What is the weather in New York?\")]\n",
    "    \n",
    "    response = await agent.get_response(messages, session_id)\n",
    "    print(f\"Session ID: {session_id}\")\n",
    "    print(f\"Response: {response}\")\n",
    "\n",
    "# Run the async function\n",
    "asyncio.run(run_base_agent())"
   ]
  },
  {
   "cell_type": "markdown",
   "metadata": {},
   "source": [
    "## 2. Deep Agent Test"
   ]
  },
  {
   "cell_type": "code",
   "execution_count": null,
   "metadata": {},
   "outputs": [],
   "source": [
    "async def run_deep_agent():\n",
    "    print(\"\n",
    "--- Running Deep Agent Test ---\")\n",
    "    session_id = str(uuid4())\n",
    "    \n",
    "    # This is a sample configuration for a deep agent.\n",
    "    # You might need to adjust it based on the specifics of your `create_configurable_agent` function.\n",
    "    deep_agent_config = {\n",
    "        'default_instructions': 'You are a helpful assistant.',\n",
    "        'default_sub_agents': [],\n",
    "        'tools': []\n",
    "    }\n",
    "    \n",
    "    agent = LangGraphAgent(agent_type='deepagent', agent_config=deep_agent_config)\n",
    "    \n",
    "    messages = [Message(role=\"user\", content=\"Hello from the deep agent!\")]\n",
    "    \n",
    "    response = await agent.get_response(messages, session_id)\n",
    "    print(f\"Session ID: {session_id}\")\n",
    "    print(f\"Response: {response}\")\n",
    "\n",
    "# Run the async function\n",
    "# asyncio.run(run_deep_agent()) # Uncomment to run"
   ]
  },
  {
   "cell_type": "markdown",
   "metadata": {},
   "source": [
    "## 3. Supervisor Agent Test"
   ]
  },
  {
   "cell_type": "code",
   "execution_count": null,
   "metadata": {},
   "outputs": [],
   "source": [
    "async def run_supervisor_agent():\n",
    "    print(\"\n",
    "--- Running Supervisor Agent Test ---\")\n",
    "    session_id = str(uuid4())\n",
    "\n",
    "    # This is a sample configuration for a supervisor agent.\n",
    "    # You will need to define your agents (e.g., using create_react_agent) and pass them in.\n",
    "    supervisor_agent_config = {\n",
    "        'agents': [\n",
    "            # Example of a react agent config. You'd create the agent and pass it in.\n",
    "            {\n",
    "                'type': 'react',\n",
    "                'model': 'gpt-4o',\n",
    "                'tools': [],\n",
    "                'name': 'researcher'\n",
    "            }\n",
    "        ],\n",
    "        'supervisor_config': {\n",
    "             # supervisor specific configs\n",
    "        }\n",
    "    }\n",
    "    \n",
    "    agent = LangGraphAgent(agent_type='supervisor', agent_config=supervisor_agent_config)\n",
    "    \n",
    "    messages = [Message(role=\"user\", content=\"Hello from the supervisor agent!\")]\n",
    "    \n",
    "    response = await agent.get_response(messages, session_id)\n",
    "    print(f\"Session ID: {session_id}\")\n",
    "    print(f\"Response: {response}\")\n",
    "\n",
    "# Run the async function\n",
    "# asyncio.run(run_supervisor_agent()) # Uncomment to run"
   ]
  },
  {
   "cell_type": "markdown",
   "metadata": {},
   "source": [
    "## 4. Swarm Agent Test"
   ]
  },
  {
   "cell_type": "code",
   "execution_count": null,
   "metadata": {},
   "outputs": [],
   "source": [
    "async def run_swarm_agent():\n",
    "    print(\"\n",
    "--- Running Swarm Agent Test ---\")\n",
    "    session_id = str(uuid4())\n",
    "\n",
    "    # This is a sample configuration for a swarm agent.\n",
    "    swarm_agent_config = {\n",
    "        'agents': [\n",
    "            {\n",
    "                'type': 'react',\n",
    "                'model': 'gpt-4o',\n",
    "                'tools': [],\n",
    "                'name': 'worker_bee_1'\n",
    "            }\n",
    "        ],\n",
    "        'swarm_config': {\n",
    "            'default_active_agent': 'worker_bee_1'\n",
    "        }\n",
    "    }\n",
    "    \n",
    "    agent = LangGraphAgent(agent_type='swarm', agent_config=swarm_agent_config)\n",
    "    \n",
    "    messages = [Message(role=\"user\", content=\"Hello from the swarm agent!\")]\n",
    "    \n",
    "    response = await agent.get_response(messages, session_id)\n",
    "    print(f\"Session ID: {session_id}\")\n",
    "    print(f\"Response: {response}\")\n",
    "\n",
    "# Run the async function\n",
    "# asyncio.run(run_swarm_agent()) # Uncomment to run"
   ]
  }
 ],
 "metadata": {
  "kernelspec": {
   "display_name": "app_project",
   "language": "python",
   "name": "python3"
  },
  "language_info": {
   "codemirror_mode": {
    "name": "ipython",
    "version": 3
   },
   "file_extension": ".py",
   "mimetype": "text/x-python",
   "name": "python",
   "nbconvert_exporter": "python",
   "pygments_lexer": "ipython3",
   "version": "3.11.5"
  }
 },
 "nbformat": 4,
 "nbformat_minor": 4
}
